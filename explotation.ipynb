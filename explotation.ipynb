{
 "cells": [
  {
   "cell_type": "code",
   "execution_count": null,
   "id": "4154f370",
   "metadata": {},
   "outputs": [],
   "source": []
  },
  {
   "cell_type": "code",
   "execution_count": 1,
   "id": "edb1e2e3",
   "metadata": {},
   "outputs": [
    {
     "name": "stderr",
     "output_type": "stream",
     "text": [
      "WARNING: Using incubator modules: jdk.incubator.vector\n",
      "Using Spark's default log4j profile: org/apache/spark/log4j2-defaults.properties\n",
      "25/06/23 15:12:58 WARN Utils: Your hostname, MacBook-Air-de-Pol.local, resolves to a loopback address: 127.0.0.1; using 10.60.217.176 instead (on interface en0)\n",
      "25/06/23 15:12:58 WARN Utils: Set SPARK_LOCAL_IP if you need to bind to another address\n",
      "Using Spark's default log4j profile: org/apache/spark/log4j2-defaults.properties\n",
      "Setting default log level to \"WARN\".\n",
      "To adjust logging level use sc.setLogLevel(newLevel). For SparkR, use setLogLevel(newLevel).\n",
      "25/06/23 15:12:59 WARN NativeCodeLoader: Unable to load native-hadoop library for your platform... using builtin-java classes where applicable\n",
      "25/06/23 15:12:59 WARN Utils: Service 'SparkUI' could not bind on port 4040. Attempting port 4041.\n",
      "                                                                                \r"
     ]
    }
   ],
   "source": [
    "from pyspark.sql.functions import col\n",
    "from pyspark.sql import SparkSession\n",
    "from pyspark.sql import functions as F\n",
    "from pyspark.sql.window import Window\n",
    "\n",
    "spark = SparkSession.builder.appName(\"exploitation-pipeline\").getOrCreate()\n",
    "income      = spark.read.parquet(\"formatted_zone/income\")\n",
    "population  = spark.read.parquet(\"formatted_zone/population_by_geographical\")\n",
    "incidences  = spark.read.parquet(\"formatted_zone/incidences\")"
   ]
  },
  {
   "cell_type": "code",
   "execution_count": 2,
   "id": "ff853aff",
   "metadata": {},
   "outputs": [
    {
     "name": "stdout",
     "output_type": "stream",
     "text": [
      "root\n",
      " |-- Codi_Districte: integer (nullable = true)\n",
      " |-- Nom_Districte: string (nullable = true)\n",
      " |-- Nom_Barri: string (nullable = true)\n",
      " |-- Població: integer (nullable = true)\n",
      " |-- Índex RFD Barcelona = 100: double (nullable = true)\n",
      " |-- Codi_Barri: integer (nullable = true)\n",
      " |-- Any: integer (nullable = true)\n",
      "\n",
      "root\n",
      " |-- Codi_Districte: long (nullable = true)\n",
      " |-- Nom_Barri: string (nullable = true)\n",
      " |-- Nom_Districte: string (nullable = true)\n",
      " |-- Valor_int: integer (nullable = true)\n",
      " |-- SEXE_desc: string (nullable = true)\n",
      " |-- NACIONALITAT_REGIO_desc: string (nullable = true)\n",
      " |-- Codi_Barri: integer (nullable = true)\n",
      " |-- Any: integer (nullable = true)\n",
      "\n",
      "root\n",
      " |-- FITXA_ID: integer (nullable = true)\n",
      " |-- TIPUS: string (nullable = true)\n",
      " |-- AREA: string (nullable = true)\n",
      " |-- ELEMENT: string (nullable = true)\n",
      " |-- DETALL: string (nullable = true)\n",
      " |-- DIA_DATA_ALTA: integer (nullable = true)\n",
      " |-- MES_DATA_ALTA: integer (nullable = true)\n",
      " |-- DIA_DATA_TANCAMENT: integer (nullable = true)\n",
      " |-- MES_DATA_TANCAMENT: integer (nullable = true)\n",
      " |-- ANY_DATA_TANCAMENT: integer (nullable = true)\n",
      " |-- Codi_Districte: integer (nullable = true)\n",
      " |-- DISTRICTE: string (nullable = true)\n",
      " |-- BARRI: string (nullable = true)\n",
      " |-- SECCIO_CENSAL: integer (nullable = true)\n",
      " |-- TIPUS_VIA: string (nullable = true)\n",
      " |-- CARRER: string (nullable = true)\n",
      " |-- NUMERO: integer (nullable = true)\n",
      " |-- COORDENADA_X: double (nullable = true)\n",
      " |-- COORDENADA_Y: double (nullable = true)\n",
      " |-- LONGITUD: double (nullable = true)\n",
      " |-- LATITUD: double (nullable = true)\n",
      " |-- SUPORT: string (nullable = true)\n",
      " |-- CANALS_RESPOSTA: string (nullable = true)\n",
      " |-- Codi_Barri: integer (nullable = true)\n",
      " |-- Any: integer (nullable = true)\n",
      "\n"
     ]
    }
   ],
   "source": [
    "income.printSchema()\n",
    "population.printSchema()\n",
    "incidences.printSchema()"
   ]
  },
  {
   "cell_type": "code",
   "execution_count": 3,
   "id": "40927bb1",
   "metadata": {},
   "outputs": [
    {
     "name": "stdout",
     "output_type": "stream",
     "text": [
      "+--------------+--------------------+-------------+---------+---------+-----------------------+----------+----+\n",
      "|Codi_Districte|           Nom_Barri|Nom_Districte|Valor_int|SEXE_desc|NACIONALITAT_REGIO_desc|Codi_Barri| Any|\n",
      "+--------------+--------------------+-------------+---------+---------+-----------------------+----------+----+\n",
      "|             1|Sant Pere, Santa ...| Ciutat Vella|      240|   Female|        Northern Africa|         4|2017|\n",
      "|             1|Sant Pere, Santa ...| Ciutat Vella|      562|     Male|        Northern Africa|         4|2017|\n",
      "|             1|Sant Pere, Santa ...| Ciutat Vella|        6|     Male|        Southern Africa|         4|2017|\n",
      "|             1|Sant Pere, Santa ...| Ciutat Vella|       13|   Female|         Western Africa|         4|2017|\n",
      "|             1|Sant Pere, Santa ...| Ciutat Vella|      127|     Male|         Western Africa|         4|2017|\n",
      "|             1|Sant Pere, Santa ...| Ciutat Vella|      101|   Female|              Caribbean|         4|2017|\n",
      "|             1|Sant Pere, Santa ...| Ciutat Vella|       78|     Male|              Caribbean|         4|2017|\n",
      "|             1|Sant Pere, Santa ...| Ciutat Vella|      171|   Female|        Central America|         4|2017|\n",
      "|             1|Sant Pere, Santa ...| Ciutat Vella|      139|     Male|        Central America|         4|2017|\n",
      "|             1|Sant Pere, Santa ...| Ciutat Vella|      665|   Female|          South America|         4|2017|\n",
      "+--------------+--------------------+-------------+---------+---------+-----------------------+----------+----+\n",
      "only showing top 10 rows\n"
     ]
    }
   ],
   "source": [
    "population.show(10)"
   ]
  },
  {
   "cell_type": "markdown",
   "id": "70599d4e",
   "metadata": {},
   "source": [
    "### Multiculutral index"
   ]
  },
  {
   "cell_type": "markdown",
   "id": "116bbd88",
   "metadata": {},
   "source": [
    "We are going to create the **Shannon Diversity Index**, a measure of biodiversity that considers both the number of species (richness) and their relative abundance (evenness) within a community. A higher Shannon index generally indicates a more diverse and balanced community, while a lower index suggests a less diverse community, potentially dominated by one or a few species.\n",
    "\n",
    "In this project, we apply this concept to human populations, using the diversity of nationalities present in a given region. While the Shannon Index is typically used to measure species evenness in ecological communities, we found it an interesting approach to use it for analyzing human diversity — since, biologically, humans are part of the animal kingdom.\n",
    "\n",
    "**Note:**\n",
    "Melissa and Pol — we are completely against any form of racism or discrimination. This project and its analysis are purely observational and neutral. There is no judgment of \"good\" or \"bad\" in this context. We simply thought it would be insightful to apply the Shannon Diversity Index to the datasets provided in class.\n",
    "\n",
    "We calculate the diversity index of each neighborhood (barri) by treating each \"NACIONALITAT_REGIO_desc\" as a distinct \"species\" for the purpose of the calculation. However, we are fully aware that all humans are equal — we are all part of the same species. We hope this project is not misunderstood, and that its purpose and objectives are seen clearly as an exploration of data, not a commentary on value or worth."
   ]
  },
  {
   "cell_type": "markdown",
   "id": "b7cbbf5a",
   "metadata": {},
   "source": [
    "$H=−∑p_i⋅log(p_i)$ \n",
    "\n",
    "Where $p_i$ is the proportion of people of a nationality in neighborhood."
   ]
  },
  {
   "cell_type": "code",
   "execution_count": 4,
   "id": "8d1177ad",
   "metadata": {},
   "outputs": [],
   "source": [
    "\"\"\" Fist we calculate the tot_nac that is the total population by region and year. Then we calculate the tot_barri that is the total population by neighborhood and year.\n",
    "Finally, we join both DataFrames to calculate p_i = total_regio / total_barri\n",
    "Then we calculate the Shannon index for each neighborhood and year using the formula H = -sum(p_i * log(p_i)).\"\"\"\n",
    "\n",
    "\n",
    "tot_nac = (population\n",
    "           .groupBy(\"Codi_Barri\", \"Any\", \"NACIONALITAT_REGIO_desc\")\n",
    "           .agg(F.sum(\"Valor_int\").alias(\"total_regio\")))\n",
    "\n",
    "tot_barri = (population\n",
    "             .groupBy(\"Codi_Barri\", \"Any\")\n",
    "             .agg(F.sum(\"Valor_int\").alias(\"total_barri\")))\n",
    "\n",
    "# Join both dattasets with a inner joint  p_i = total_regio / total_barri\n",
    "joined = (tot_nac\n",
    "          .join(tot_barri, on=[\"Codi_Barri\", \"Any\"], how=\"inner\")\n",
    "          .withColumn(\"p_i\", F.col(\"total_regio\") / F.col(\"total_barri\")))\n",
    "\n",
    "# H = -sum(p_i * log(p_i))\n",
    "joined = joined.withColumn(\"p_logp\", -F.col(\"p_i\") * F.log(F.col(\"p_i\")))\n",
    "shannon_index = (joined\n",
    "                 .groupBy(\"Codi_Barri\", \"Any\")\n",
    "                 .agg(F.sum(\"p_logp\").alias(\"shannon_index\")))\n"
   ]
  },
  {
   "cell_type": "code",
   "execution_count": 5,
   "id": "456b8571",
   "metadata": {},
   "outputs": [
    {
     "name": "stderr",
     "output_type": "stream",
     "text": [
      "                                                                                \r"
     ]
    },
    {
     "name": "stdout",
     "output_type": "stream",
     "text": [
      "+----------+----+-------------------+\n",
      "|Codi_Barri| Any|      shannon_index|\n",
      "+----------+----+-------------------+\n",
      "|        36|2015|0.27124215732675566|\n",
      "|        36|2014| 0.2884713672303176|\n",
      "|        27|2017| 0.5537600665257805|\n",
      "|        54|2015| 0.6366169293476048|\n",
      "|        50|2016| 0.8620872214339319|\n",
      "|        55|2014| 1.1820426239639124|\n",
      "|        45|2016| 0.6559294251424883|\n",
      "|        64|2017| 0.7196874620130499|\n",
      "|        61|2014| 0.5810116441918529|\n",
      "|        23|2017| 0.5524182004287684|\n",
      "+----------+----+-------------------+\n",
      "only showing top 10 rows\n"
     ]
    }
   ],
   "source": [
    "shannon_index.show(10)"
   ]
  },
  {
   "cell_type": "markdown",
   "id": "d5215f63",
   "metadata": {},
   "source": [
    "The advantage of using the Shannon Diversity Index is that it not only counts how many different nationalities are present, but also considers how evenly they are distributed within the same region. For example, if a neighborhood has 10 different nationalities but one of them makes up 90% of the population, it will have a lower index than another neighborhood where all nationalities are more evenly distributed."
   ]
  },
  {
   "cell_type": "code",
   "execution_count": null,
   "id": "ced411ab",
   "metadata": {},
   "outputs": [],
   "source": [
    "#multi = (tot_nac.filter(\"total_regio > 0\").groupBy(\"Codi_Barri\").agg(F.countDistinct(\"NACIONALITAT_REGIO_desc\").alias(\"multicultural_idx\")))"
   ]
  },
  {
   "cell_type": "markdown",
   "id": "f3d2227f",
   "metadata": {},
   "source": [
    "**MEL if you see this, i know that we have to change it, here is some test, to see how the partition by works**"
   ]
  },
  {
   "cell_type": "code",
   "execution_count": 6,
   "id": "527a0624",
   "metadata": {},
   "outputs": [],
   "source": [
    "# i will save partitioned by year, but this should be in the formatted_zone\n",
    "shannon_index.write \\\n",
    "    .option(\"header\", True) \\\n",
    "    .mode(\"overwrite\") \\\n",
    "    .csv(\"exploitation_zone/shannon_index\")\n",
    "\n",
    "#.partitionBy(\"Any\") \\"
   ]
  },
  {
   "cell_type": "code",
   "execution_count": 7,
   "id": "2799c3c1",
   "metadata": {},
   "outputs": [
    {
     "name": "stdout",
     "output_type": "stream",
     "text": [
      "+----------+----+-----------------------+-----------+\n",
      "|Codi_Barri| Any|NACIONALITAT_REGIO_desc|total_regio|\n",
      "+----------+----+-----------------------+-----------+\n",
      "|         4|2015|              Caribbean|        213|\n",
      "|        25|2016|       Northern America|        104|\n",
      "|        69|2016|         Western Europe|        371|\n",
      "|        69|2015|          South America|        316|\n",
      "|         9|2015|          Not available|          5|\n",
      "|        32|2016|         Western Africa|         27|\n",
      "|         9|2017|     South-Eastern Asia|        358|\n",
      "|        26|2016|     South-Eastern Asia|        164|\n",
      "|        69|2015|         Western Africa|         17|\n",
      "|         4|2017|        Northern Europe|        948|\n",
      "|         4|2017|          Not available|          5|\n",
      "|         4|2015|         Western Europe|       1414|\n",
      "|        69|2017|           Eastern Asia|        156|\n",
      "|        66|2017|        Central America|         87|\n",
      "|         4|2016|        Northern Africa|        756|\n",
      "|         9|2017|           Western Asia|        251|\n",
      "|        27|2014|        Northern Europe|        230|\n",
      "|         7|2016|          Southern Asia|        182|\n",
      "|         4|2014|          Not available|          5|\n",
      "|         9|2016|          South America|       2504|\n",
      "|         8|2014|     South-Eastern Asia|        325|\n",
      "|         9|2016|           Eastern Asia|       1320|\n",
      "|        32|2014|     South-Eastern Asia|         33|\n",
      "|         7|2016|        Central America|        369|\n",
      "|         4|2016|         Western Europe|       1416|\n",
      "|         9|2014|           Eastern Asia|       1260|\n",
      "|         9|2017|         Eastern Africa|         15|\n",
      "|        66|2015|     South-Eastern Asia|         30|\n",
      "|        27|2014|   Australia and New...|          5|\n",
      "|         4|2015|     South-Eastern Asia|        299|\n",
      "|         9|2014|   Australia and New...|         13|\n",
      "|         7|2017|     South-Eastern Asia|        105|\n",
      "|        25|2017|   Australia and New...|          6|\n",
      "|         4|2015|           Western Asia|        130|\n",
      "|         9|2014|          Middle Africa|          9|\n",
      "|        69|2017|           Central Asia|         16|\n",
      "|        66|2014|          South America|        567|\n",
      "|         9|2017|       Northern America|        198|\n",
      "|        66|2017|           Central Asia|         22|\n",
      "|         9|2015|        Central America|        502|\n",
      "|         9|2017|          Southern Asia|        370|\n",
      "|        69|2016|        Northern Europe|        169|\n",
      "|        69|2014|       Northern America|         54|\n",
      "|        27|2017|         Western Africa|         41|\n",
      "|         7|2017|           Central Asia|         30|\n",
      "|        26|2017|     South-Eastern Asia|        164|\n",
      "|        66|2017|          Not available|          5|\n",
      "|         7|2016|           Western Asia|        206|\n",
      "|         7|2015|          Southern Asia|        178|\n",
      "|        26|2015|           Western Asia|        131|\n",
      "|         9|2016|         Western Africa|         45|\n",
      "|         8|2016|          South America|       1732|\n",
      "|        27|2017|          Middle Africa|          6|\n",
      "|         7|2015|          South America|       1496|\n",
      "|         8|2015|           Western Asia|        146|\n",
      "|        66|2014|              Caribbean|         68|\n",
      "|         8|2017|              Caribbean|        146|\n",
      "|         9|2015|         Eastern Africa|         11|\n",
      "|         9|2014|        Southern Europe|      49254|\n",
      "|         8|2015|          South America|       1755|\n",
      "|        32|2014|        Northern Europe|        303|\n",
      "|         7|2017|        Southern Europe|      36445|\n",
      "|         8|2015|           Eastern Asia|        747|\n",
      "|        69|2014|           Eastern Asia|        120|\n",
      "|         7|2017|              Caribbean|        116|\n",
      "|         4|2017|           Western Asia|        196|\n",
      "|        27|2017|           Western Asia|         55|\n",
      "|        26|2014|         Eastern Africa|          6|\n",
      "|        25|2017|         Eastern Africa|          5|\n",
      "|         9|2015|           Eastern Asia|       1265|\n",
      "|        32|2014|        Southern Europe|      30379|\n",
      "|         8|2014|         Eastern Europe|        591|\n",
      "|         7|2016|         Western Europe|       1832|\n",
      "|         7|2015|        Northern Europe|        730|\n",
      "|        25|2017|         Western Africa|         30|\n",
      "|        26|2015|           Central Asia|         19|\n",
      "|        26|2014|        Northern Africa|        120|\n",
      "|        26|2017|        Southern Europe|      42906|\n",
      "|        32|2014|   Australia and New...|          5|\n",
      "|        27|2017|          Southern Asia|        104|\n",
      "|         8|2017|   Australia and New...|         24|\n",
      "|        26|2015|         Eastern Europe|        396|\n",
      "|         8|2016|          Not available|          5|\n",
      "|         7|2017|           Eastern Asia|        836|\n",
      "|        26|2015|          South America|        950|\n",
      "|         9|2015|          South America|       2552|\n",
      "|         7|2017|   Australia and New...|         49|\n",
      "|         7|2017|          Not available|         13|\n",
      "|         4|2016|        Central America|        230|\n",
      "|        32|2016|         Western Europe|        545|\n",
      "|         8|2017|        Central America|        517|\n",
      "|         8|2017|          South America|       2018|\n",
      "|         4|2017|        Southern Africa|          6|\n",
      "|         9|2017|         Western Europe|        993|\n",
      "|        69|2015|         Eastern Europe|        457|\n",
      "|        32|2014|       Northern America|         89|\n",
      "|         4|2016|       Northern America|        244|\n",
      "|        69|2017|              Caribbean|         18|\n",
      "|        27|2017|     South-Eastern Asia|         40|\n",
      "|         7|2015|              Caribbean|        125|\n",
      "+----------+----+-----------------------+-----------+\n",
      "only showing top 100 rows\n"
     ]
    }
   ],
   "source": [
    "tot_nac.show(100)"
   ]
  },
  {
   "cell_type": "markdown",
   "id": "07cec982",
   "metadata": {},
   "source": [
    "### Visual study using geojson\n",
    "we use from the landing_zone in the lookup_tables the \"BarcelonaCiutat_Barris.csv\" where we obtain the geographies of the neighborhoods that we can use to do a more visual analysis."
   ]
  },
  {
   "cell_type": "code",
   "execution_count": null,
   "id": "20f6f3f0",
   "metadata": {},
   "outputs": [],
   "source": [
    "import geopandas as gpd\n",
    "import pandas as pd\n",
    "import matplotlib.pyplot as plt\n",
    "from shapely import wkt\n",
    "\n",
    "barrios = pd.read_csv(\"landing_zone/lookup_tables/BarcelonaCiutat_Barris.csv\")\n",
    "barrios[\"geometry\"] = barrios[\"geometria_wgs84\"].apply(wkt.loads)\n",
    "barrios_gdf = gpd.GeoDataFrame(barrios, geometry=\"geometry\", crs=\"EPSG:4326\")\n",
    "\n",
    "barrios_gdf[\"codi_barri\"] = barrios_gdf[\"codi_barri\"].astype(str)\n",
    "shannon_files =[\"exploitation_zone/shannon_index/Any=2014/part-00000-9edd2dda-2e43-4a06-a91e-b20f97de9549.c000.csv\",\n",
    "         \"exploitation_zone/shannon_index/Any=2015/part-00000-9edd2dda-2e43-4a06-a91e-b20f97de9549.c000.csv\",\n",
    "         \"exploitation_zone/shannon_index/Any=2016/part-00000-9edd2dda-2e43-4a06-a91e-b20f97de9549.c000.csv\",\n",
    "         \"exploitation_zone/shannon_index/Any=2017/part-00000-9edd2dda-2e43-4a06-a91e-b20f97de9549.c000.csv\"]\n",
    "\n",
    "for file_path in shannon_files:\n",
    "    year = file_path.split(\"Any=\")[-1].split(\"/\")[0]  # Extract year from path\n",
    "    shannon_df = pd.read_csv(file_path)\n",
    "    shannon_df[\"Codi_Barri\"] = shannon_df[\"Codi_Barri\"].astype(str)\n",
    "\n",
    "    # Merge geometries with index data\n",
    "    merged = barrios_gdf.merge(shannon_df, left_on=\"codi_barri\", right_on=\"Codi_Barri\")\n",
    "\n",
    "    # Plot\n",
    "    plt.figure(figsize=(12, 8))\n",
    "    merged.plot(column=\"shannon_index\", cmap=\"YlOrRd\", legend=True, edgecolor=\"black\")\n",
    "    plt.title(f\"Shannon Diversity Index by Neighborhood ({year})\", fontsize=15)\n",
    "    plt.axis(\"off\")\n",
    "    plt.tight_layout()\n",
    "    plt.show()\n"
   ]
  },
  {
   "cell_type": "markdown",
   "id": "c6ad7eff",
   "metadata": {},
   "source": [
    "\n",
    " ### Average Income Per Neighborhood\n",
    "\n",
    "We calculate the **Average Income per Neighborhood** as a socioeconomic indicator that reflects the economic status and purchasing power of residents in each area. This KPI provides insights into income inequality across different neighborhoods in Barcelona and can be correlated with other social indicators such as diversity and public safety.\n",
    "\n",
    "The average income is calculated by aggregating all individual income records within each neighborhood (Codi_Barri) for each year, providing a mean value that represents the typical economic situation of residents. This metric is particularly valuable for Understanding which areas might need more social investment or economic development programs. The KPI can also help govenments identify income disparities and making infromed decisions about resource allocation and social services distribution.\n",
    "\n",
    "Higher average income values typically indicate more affluent neighborhoods, while lower values may suggest areas with greater economic challenges or opportunities for targeted social support programs.\n"
   ]
  },
  {
   "cell_type": "code",
   "execution_count": 8,
   "id": "101f360c",
   "metadata": {},
   "outputs": [
    {
     "name": "stdout",
     "output_type": "stream",
     "text": [
      "+----------+----+----------------+\n",
      "|Codi_Barri| Any|avg_income_index|\n",
      "+----------+----+----------------+\n",
      "|         1|2014|            65.9|\n",
      "|         1|2015|            75.8|\n",
      "|         1|2016|            74.6|\n",
      "|         1|2017|            71.2|\n",
      "|         2|2014|            98.5|\n",
      "|         2|2015|           108.5|\n",
      "|         2|2016|           110.5|\n",
      "|         2|2017|           106.1|\n",
      "|         3|2014|            84.5|\n",
      "|         3|2015|            76.6|\n",
      "+----------+----+----------------+\n",
      "only showing top 10 rows\n"
     ]
    }
   ],
   "source": [
    "avg_income_neighborhood = (income\n",
    "                                  .groupBy(\"Codi_Barri\", \"Any\")\n",
    "                                  .agg(F.avg(F.col(\"`Índex RFD Barcelona = 100`\")).alias(\"avg_income_index\"))\n",
    "                                  .orderBy(\"Codi_Barri\", \"Any\"))\n",
    "avg_income_neighborhood.show(10)"
   ]
  },
  {
   "cell_type": "markdown",
   "id": "fecc75b4",
   "metadata": {},
   "source": [
    "### Average Incident Resolution Time Per Neighborhood\n",
    "\n",
    "We calculate the **Average Incident Resolution Time** per Neighborhood as a key performance indicator for public safety and emergency response efficiency. This metric measures how quickly incidents are resolved from the moment they are reported until they are officially closed, expressed in days. The resolution time is computed by finding the difference between the incident closure date and the incident creation date for each neighborhood and year.\n",
    "This KPI helps identify service efficiency patterns across Barcelona's neighborhoods, revealing areas where emergency services respond more quickly or slowly. Lower average resolution times indicate more efficient incident management, while higher times may suggest areas needing additional resources or process improvements. However, our analysis reveals potential data quality issues, as many incidents show identical creation and closure dates (0-day resolution), which may indicate systematic data entry practices or bulk processing rather than actual same-day resolution of all incidents.RetryClaude can make mistakes. Please double-check responses."
   ]
  },
  {
   "cell_type": "code",
   "execution_count": 9,
   "id": "f43d787b",
   "metadata": {},
   "outputs": [
    {
     "name": "stderr",
     "output_type": "stream",
     "text": [
      "[Stage 31:==============================================>         (71 + 8) / 85]\r"
     ]
    },
    {
     "name": "stdout",
     "output_type": "stream",
     "text": [
      "+----------+----+-------------------+---------------+-------------------+-------------------+\n",
      "|Codi_Barri| Any|avg_resolution_days|total_incidents|min_resolution_days|max_resolution_days|\n",
      "+----------+----+-------------------+---------------+-------------------+-------------------+\n",
      "|         1|2013| 45.166666666666664|             30|                  2|                202|\n",
      "|         1|2014|  6.877161055505004|           2198|                  0|                310|\n",
      "|         1|2015|    8.1679607682877|           2447|                  0|                325|\n",
      "|         1|2016|  9.845474613686534|           2718|                  0|                177|\n",
      "|         1|2017|  10.79578886645515|           3467|                  0|                144|\n",
      "|         2|2013|               20.5|             22|                  7|                 84|\n",
      "|         2|2014|  8.230582524271844|           1648|                  0|                353|\n",
      "|         2|2015|  8.825335892514396|           1563|                  0|                180|\n",
      "|         2|2016| 10.890201870999508|           2031|                  0|                398|\n",
      "|         2|2017| 11.437529467232437|           2121|                  0|                271|\n",
      "+----------+----+-------------------+---------------+-------------------+-------------------+\n",
      "only showing top 10 rows\n"
     ]
    },
    {
     "name": "stderr",
     "output_type": "stream",
     "text": [
      "                                                                                \r"
     ]
    }
   ],
   "source": [
    "incident_with_dates = (incidences\n",
    "                      .withColumn(\"creation_date\",\n",
    "                                 F.to_date(F.concat_ws(\"-\", F.col(\"Any\"), F.col(\"MES_DATA_ALTA\"), F.col(\"DIA_DATA_ALTA\")), \"yyyy-M-d\"))\n",
    "                      .withColumn(\"closure_date\",\n",
    "                                 F.to_date(F.concat_ws(\"-\", F.col(\"ANY_DATA_TANCAMENT\"), F.col(\"MES_DATA_TANCAMENT\"), F.col(\"DIA_DATA_TANCAMENT\")), \"yyyy-M-d\"))\n",
    "                      .filter(F.col(\"creation_date\").isNotNull() & F.col(\"closure_date\").isNotNull()))\n",
    "\n",
    "# resolution time\n",
    "incident_resolution = (incident_with_dates\n",
    "                      .withColumn(\"resolution_days\",\n",
    "                                 F.datediff(F.col(\"closure_date\"), F.col(\"creation_date\")))\n",
    "                      .filter(F.col(\"resolution_days\") >= 0))\n",
    "\n",
    "# average resolution time per neighborhood and year\n",
    "avg_resolution_time = (incident_resolution\n",
    "                      .groupBy(\"Codi_Barri\", \"Any\")\n",
    "                      .agg(F.avg(\"resolution_days\").alias(\"avg_resolution_days\"),\n",
    "                           F.count(\"*\").alias(\"total_incidents\"),\n",
    "                           F.min(\"resolution_days\").alias(\"min_resolution_days\"),\n",
    "                           F.max(\"resolution_days\").alias(\"max_resolution_days\"))\n",
    "                      .orderBy(\"Codi_Barri\", \"Any\"))\n",
    "\n",
    "avg_resolution_time.show(10)"
   ]
  },
  {
   "cell_type": "code",
   "execution_count": null,
   "id": "6c6743f5",
   "metadata": {},
   "outputs": [
    {
     "name": "stderr",
     "output_type": "stream",
     "text": [
      "[Stage 35:==========================================>             (64 + 8) / 85]\r"
     ]
    },
    {
     "name": "stdout",
     "output_type": "stream",
     "text": [
      "+----------+-----+\n",
      "|Codi_Barri|count|\n",
      "+----------+-----+\n",
      "|        31|11510|\n",
      "|         7|10915|\n",
      "|         1|10860|\n",
      "|        18| 9409|\n",
      "|        60| 9278|\n",
      "|        68| 9245|\n",
      "|         4| 8502|\n",
      "|         9| 8379|\n",
      "|        26| 8265|\n",
      "|        11| 8249|\n",
      "|        19| 8240|\n",
      "|        35| 7498|\n",
      "|         2| 7385|\n",
      "|         8| 7211|\n",
      "|         6| 6575|\n",
      "|        37| 6505|\n",
      "|        10| 6423|\n",
      "|        43| 6309|\n",
      "|        13| 5721|\n",
      "|        64| 5299|\n",
      "+----------+-----+\n",
      "only showing top 20 rows\n"
     ]
    },
    {
     "name": "stderr",
     "output_type": "stream",
     "text": [
      "                                                                                \r"
     ]
    }
   ],
   "source": [
    "# shofim a ka vlera boshe \n",
    "\n",
    "from pyspark.sql.functions import col, sum as spark_sum, when, isnan, isnull\n",
    "\n",
    "# null_counts = incidences.select([\n",
    "#    spark_sum(when(isnull(col(c)) | isnan(col(c)), 1).otherwise(0)).alias(c)\n",
    "#    for c in incidences.columns\n",
    "# ])\n",
    "\n",
    "#null_counts.show()\n",
    "\n",
    "incidences.groupBy(\"Codi_Barri\").count().orderBy(\"count\", ascending=False).show()"
   ]
  },
  {
   "cell_type": "code",
   "execution_count": 12,
   "id": "b51d1291",
   "metadata": {},
   "outputs": [
    {
     "name": "stdout",
     "output_type": "stream",
     "text": [
      "+-------------+-------------+----+------------------+------------------+------------------+--------+\n",
      "|DIA_DATA_ALTA|MES_DATA_ALTA| Any|DIA_DATA_TANCAMENT|MES_DATA_TANCAMENT|ANY_DATA_TANCAMENT|same_day|\n",
      "+-------------+-------------+----+------------------+------------------+------------------+--------+\n",
      "|           22|            9|2016|                22|                 9|              2016|    true|\n",
      "|           22|            9|2016|                22|                 9|              2016|    true|\n",
      "|           22|            9|2016|                22|                 9|              2016|    true|\n",
      "|           28|            7|2016|                23|                 9|              2016|   false|\n",
      "|            9|            8|2016|                23|                 9|              2016|   false|\n",
      "|           10|            8|2016|                23|                 9|              2016|   false|\n",
      "|           27|            8|2016|                23|                 9|              2016|   false|\n",
      "|           15|            9|2016|                23|                 9|              2016|   false|\n",
      "|           18|            9|2016|                23|                 9|              2016|   false|\n",
      "|           18|            9|2016|                23|                 9|              2016|   false|\n",
      "|           19|            9|2016|                23|                 9|              2016|   false|\n",
      "|           19|            9|2016|                23|                 9|              2016|   false|\n",
      "|           20|            9|2016|                23|                 9|              2016|   false|\n",
      "|           20|            9|2016|                23|                 9|              2016|   false|\n",
      "|           21|            9|2016|                23|                 9|              2016|   false|\n",
      "|           22|            9|2016|                23|                 9|              2016|   false|\n",
      "|           23|            9|2016|                23|                 9|              2016|    true|\n",
      "|           23|            9|2016|                23|                 9|              2016|    true|\n",
      "|           23|            9|2016|                24|                 9|              2016|   false|\n",
      "|           24|            9|2016|                24|                 9|              2016|    true|\n",
      "+-------------+-------------+----+------------------+------------------+------------------+--------+\n",
      "only showing top 20 rows\n"
     ]
    },
    {
     "name": "stderr",
     "output_type": "stream",
     "text": [
      "[Stage 39:==========================================>             (65 + 8) / 85]\r"
     ]
    },
    {
     "name": "stdout",
     "output_type": "stream",
     "text": [
      "+---------+------+\n",
      "|same_date| count|\n",
      "+---------+------+\n",
      "|     true| 52988|\n",
      "|    false|269534|\n",
      "+---------+------+\n",
      "\n"
     ]
    },
    {
     "name": "stderr",
     "output_type": "stream",
     "text": [
      "                                                                                \r"
     ]
    }
   ],
   "source": [
    "# pse? t shofim nga vin gjerat\n",
    "debug_neighborhood_1 = (incidences\n",
    "                       .filter((F.col(\"Codi_Barri\") == 1) & (F.col(\"Any\") == 2016))\n",
    "                       .select(\"DIA_DATA_ALTA\", \"MES_DATA_ALTA\", \"Any\",\n",
    "                              \"DIA_DATA_TANCAMENT\", \"MES_DATA_TANCAMENT\", \"ANY_DATA_TANCAMENT\")\n",
    "                       .withColumn(\"same_day\",\n",
    "                                  (F.col(\"DIA_DATA_ALTA\") == F.col(\"DIA_DATA_TANCAMENT\")) &\n",
    "                                  (F.col(\"MES_DATA_ALTA\") == F.col(\"MES_DATA_TANCAMENT\")) &\n",
    "                                  (F.col(\"Any\") == F.col(\"ANY_DATA_TANCAMENT\"))))\n",
    "\n",
    "debug_neighborhood_1.show()\n",
    "\n",
    "same_date_check = (incidences\n",
    "                  .withColumn(\"same_date\",\n",
    "                             (F.col(\"DIA_DATA_ALTA\") == F.col(\"DIA_DATA_TANCAMENT\")) &\n",
    "                             (F.col(\"MES_DATA_ALTA\") == F.col(\"MES_DATA_TANCAMENT\")) &\n",
    "                             (F.col(\"Any\") == F.col(\"ANY_DATA_TANCAMENT\")))\n",
    "                  .groupBy(\"same_date\")\n",
    "                  .count())\n",
    "\n",
    "same_date_check.show()"
   ]
  },
  {
   "cell_type": "code",
   "execution_count": null,
   "id": "7ade0b89",
   "metadata": {},
   "outputs": [],
   "source": [
    "## do the kpis the incident things and save this\n",
    "\n",
    "### kpis already created in the exploitation file.\\\n",
    "### formatted to exploitation."
   ]
  }
 ],
 "metadata": {
  "kernelspec": {
   "display_name": "datasci",
   "language": "python",
   "name": "python3"
  },
  "language_info": {
   "codemirror_mode": {
    "name": "ipython",
    "version": 3
   },
   "file_extension": ".py",
   "mimetype": "text/x-python",
   "name": "python",
   "nbconvert_exporter": "python",
   "pygments_lexer": "ipython3",
   "version": "3.12.7"
  }
 },
 "nbformat": 4,
 "nbformat_minor": 5
}
