{
 "cells": [
  {
   "cell_type": "code",
   "execution_count": 11,
   "id": "4154f370",
   "metadata": {},
   "outputs": [],
   "source": [
    "from pyspark.sql import SparkSession\n",
    "from pyspark.sql import functions as F\n",
    "from pyspark.sql import Window\n",
    "\n",
    "spark = (SparkSession.builder\n",
    "         .appName(\"exploitation-pipeline\")\n",
    "         .getOrCreate())"
   ]
  },
  {
   "cell_type": "code",
   "execution_count": 12,
   "id": "edb1e2e3",
   "metadata": {},
   "outputs": [],
   "source": [
    "from pyspark.sql.functions import col\n",
    "from pyspark.sql import SparkSession\n",
    "from pyspark.sql import functions as F\n",
    "\n",
    "spark = SparkSession.builder.appName(\"exploitation-pipeline\").getOrCreate()\n",
    "income      = spark.read.parquet(\"formatted_zone/income\")      \n",
    "population  = spark.read.parquet(\"formatted_zone/population_by_geographical\")\n",
    "incidences  = spark.read.parquet(\"formatted_zone/incidences\")"
   ]
  },
  {
   "cell_type": "code",
   "execution_count": 13,
   "id": "ff853aff",
   "metadata": {},
   "outputs": [
    {
     "name": "stdout",
     "output_type": "stream",
     "text": [
      "root\n",
      " |-- Any: integer (nullable = true)\n",
      " |-- Codi_Districte: integer (nullable = true)\n",
      " |-- Nom_Districte: string (nullable = true)\n",
      " |-- Codi_Barri: integer (nullable = true)\n",
      " |-- Nom_Barri: string (nullable = true)\n",
      " |-- Població: integer (nullable = true)\n",
      " |-- Índex RFD Barcelona = 100: double (nullable = true)\n",
      "\n",
      "root\n",
      " |-- Codi_Barri: long (nullable = true)\n",
      " |-- Codi_Districte: long (nullable = true)\n",
      " |-- Data_Referencia: string (nullable = true)\n",
      " |-- NACIONALITAT_REGIO: long (nullable = true)\n",
      " |-- Nom_Barri: string (nullable = true)\n",
      " |-- Nom_Districte: string (nullable = true)\n",
      " |-- SEXE: long (nullable = true)\n",
      " |-- Valor: string (nullable = true)\n",
      " |-- SEXE_desc: string (nullable = true)\n",
      " |-- NACIONALITAT_REGIO_desc: string (nullable = true)\n",
      " |-- Any: integer (nullable = true)\n",
      "\n",
      "root\n",
      " |-- Codi_Districte: integer (nullable = true)\n",
      " |-- DISTRICTE: string (nullable = true)\n",
      " |-- ANY_DATA_TANCAMENT: integer (nullable = true)\n",
      " |-- DETALL: string (nullable = true)\n",
      " |-- BARRI: string (nullable = true)\n",
      " |-- FITXA_ID: integer (nullable = true)\n",
      " |-- LATITUD: double (nullable = true)\n",
      " |-- AREA: string (nullable = true)\n",
      " |-- COORDENADA_Y: double (nullable = true)\n",
      " |-- COORDENADA_X: double (nullable = true)\n",
      " |-- LONGITUD: double (nullable = true)\n",
      " |-- DIA_DATA_ALTA: integer (nullable = true)\n",
      " |-- CANALS_RESPOSTA: string (nullable = true)\n",
      " |-- NUMERO: integer (nullable = true)\n",
      " |-- ELEMENT: string (nullable = true)\n",
      " |-- SECCIO_CENSAL: integer (nullable = true)\n",
      " |-- MES_DATA_TANCAMENT: integer (nullable = true)\n",
      " |-- TIPUS_VIA: string (nullable = true)\n",
      " |-- Any: integer (nullable = true)\n",
      " |-- MES_DATA_ALTA: integer (nullable = true)\n",
      " |-- SUPORT: string (nullable = true)\n",
      " |-- CARRER: string (nullable = true)\n",
      " |-- Codi_Barri: integer (nullable = true)\n",
      " |-- _id: integer (nullable = true)\n",
      " |-- TIPUS: string (nullable = true)\n",
      " |-- DIA_DATA_TANCAMENT: integer (nullable = true)\n",
      "\n"
     ]
    }
   ],
   "source": [
    "income.printSchema()\n",
    "population.printSchema()\n",
    "incidences.printSchema()"
   ]
  },
  {
   "cell_type": "markdown",
   "id": "70599d4e",
   "metadata": {},
   "source": [
    "LEts create a multicultural index"
   ]
  },
  {
   "cell_type": "code",
   "execution_count": 14,
   "id": "8b19b794",
   "metadata": {},
   "outputs": [],
   "source": [
    "\n",
    "conteos = population.groupBy(\"Codi_Barri\").count()"
   ]
  },
  {
   "cell_type": "code",
   "execution_count": null,
   "id": "efdc263d",
   "metadata": {},
   "outputs": [
    {
     "data": {
      "text/plain": [
       "DataFrame[Codi_Barri: bigint, count: bigint]"
      ]
     },
     "execution_count": 15,
     "metadata": {},
     "output_type": "execute_result"
    }
   ],
   "source": [
    "conteoss"
   ]
  }
 ],
 "metadata": {
  "kernelspec": {
   "display_name": "DS_enviroment",
   "language": "python",
   "name": "python3"
  },
  "language_info": {
   "codemirror_mode": {
    "name": "ipython",
    "version": 3
   },
   "file_extension": ".py",
   "mimetype": "text/x-python",
   "name": "python",
   "nbconvert_exporter": "python",
   "pygments_lexer": "ipython3",
   "version": "3.12.2"
  }
 },
 "nbformat": 4,
 "nbformat_minor": 5
}
