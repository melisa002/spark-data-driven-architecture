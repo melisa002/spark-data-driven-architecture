{
 "cells": [
  {
   "cell_type": "code",
   "execution_count": null,
   "id": "4154f370",
   "metadata": {},
   "outputs": [],
   "source": [
    "from pyspark.sql import SparkSession\n",
    "from pyspark.sql import functions as F\n",
    "from pyspark.sql import Window\n",
    "\n",
    "spark = (SparkSession.builder\n",
    "         .appName(\"exploitation-pipeline\")\n",
    "         .getOrCreate())"
   ]
  },
  {
   "cell_type": "code",
   "execution_count": null,
   "id": "edb1e2e3",
   "metadata": {},
   "outputs": [],
   "source": [
    "from pyspark.sql.functions import col\n",
    "from pyspark.sql import SparkSession\n",
    "from pyspark.sql import functions as F\n",
    "\n",
    "spark = SparkSession.builder.appName(\"exploitation-pipeline\").getOrCreate()\n",
    "income      = spark.read.parquet(\"formatted_zone/income\")      \n",
    "population  = spark.read.parquet(\"formatted_zone/population_by_geographical\")\n",
    "incidences  = spark.read.parquet(\"formatted_zone/incidences\")"
   ]
  },
  {
   "cell_type": "code",
   "execution_count": null,
   "id": "ff853aff",
   "metadata": {},
   "outputs": [],
   "source": [
    "income.printSchema()\n",
    "population.printSchema()\n",
    "incidences.printSchema()"
   ]
  },
  {
   "cell_type": "code",
   "execution_count": null,
   "id": "303cdc16",
   "metadata": {},
   "outputs": [],
   "source": [
    "population"
   ]
  },
  {
   "cell_type": "markdown",
   "id": "70599d4e",
   "metadata": {},
   "source": [
    "LEts create a multicultural index"
   ]
  },
  {
   "cell_type": "code",
   "execution_count": null,
   "id": "8b19b794",
   "metadata": {},
   "outputs": [],
   "source": [
    "tot_nac = (population.groupBy(\"Codi_Barri\",\n",
    "                       \"Codi_Districte\",\n",
    "                       \"Data_Referencia\",\n",
    "                       \"NACIONALITAT_REGIO\")\n",
    "                .agg(F.sum(\"Valor_int\").alias(\"total_regio\")))\n"
   ]
  },
  {
   "cell_type": "code",
   "execution_count": null,
   "id": "efdc263d",
   "metadata": {},
   "outputs": [],
   "source": [
    "from pyspark.sql import Window\n",
    "\n",
    "w = Window.partitionBy(\"Codi_Barri\",\n",
    "                       \"NACIONALITAT_REGIO\",\n",
    "                       \"Data_Referencia\")\n",
    "\n",
    "population = population.withColumn(\"total_regio\", F.sum(\"Valor_int\").over(w))"
   ]
  }
 ],
 "metadata": {
  "kernelspec": {
   "display_name": "DS_enviroment",
   "language": "python",
   "name": "python3"
  },
  "language_info": {
   "codemirror_mode": {
    "name": "ipython",
    "version": 3
   },
   "file_extension": ".py",
   "mimetype": "text/x-python",
   "name": "python",
   "nbconvert_exporter": "python",
   "pygments_lexer": "ipython3",
   "version": "3.12.2"
  }
 },
 "nbformat": 4,
 "nbformat_minor": 5
}
