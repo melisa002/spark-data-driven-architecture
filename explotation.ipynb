{
 "cells": [
  {
   "cell_type": "code",
   "execution_count": 1,
   "id": "edb1e2e3",
   "metadata": {},
   "outputs": [
    {
     "name": "stderr",
     "output_type": "stream",
     "text": [
      "25/06/24 17:22:27 WARN Utils: Your hostname, Mels-MacBook-Pro.local resolves to a loopback address: 127.0.0.1; using 10.60.172.110 instead (on interface en0)\n",
      "25/06/24 17:22:27 WARN Utils: Set SPARK_LOCAL_IP if you need to bind to another address\n",
      "Setting default log level to \"WARN\".\n",
      "To adjust logging level use sc.setLogLevel(newLevel). For SparkR, use setLogLevel(newLevel).\n",
      "25/06/24 17:22:27 WARN NativeCodeLoader: Unable to load native-hadoop library for your platform... using builtin-java classes where applicable\n",
      "25/06/24 17:22:28 WARN Utils: Service 'SparkUI' could not bind on port 4040. Attempting port 4041.\n",
      "25/06/24 17:22:28 WARN Utils: Service 'SparkUI' could not bind on port 4041. Attempting port 4042.\n"
     ]
    }
   ],
   "source": [
    "from pyspark.sql.functions import col\n",
    "from pyspark.sql import SparkSession\n",
    "from pyspark.sql import functions as F\n",
    "from pyspark.sql.window import Window\n",
    "\n",
    "spark = SparkSession.builder.appName(\"exploitation-pipeline\").getOrCreate()\n",
    "income      = spark.read.parquet(\"formatted_zone/income\")\n",
    "population  = spark.read.parquet(\"formatted_zone/population_by_geographical\")\n",
    "incidences  = spark.read.parquet(\"formatted_zone/incidences\")"
   ]
  },
  {
   "cell_type": "code",
   "execution_count": 2,
   "id": "ff853aff",
   "metadata": {},
   "outputs": [
    {
     "name": "stdout",
     "output_type": "stream",
     "text": [
      "root\n",
      " |-- Codi_Districte: integer (nullable = true)\n",
      " |-- Nom_Districte: string (nullable = true)\n",
      " |-- Nom_Barri: string (nullable = true)\n",
      " |-- Població: integer (nullable = true)\n",
      " |-- Índex RFD Barcelona = 100: double (nullable = true)\n",
      " |-- Codi_Barri: integer (nullable = true)\n",
      " |-- Any: integer (nullable = true)\n",
      "\n",
      "root\n",
      " |-- Codi_Districte: long (nullable = true)\n",
      " |-- Nom_Barri: string (nullable = true)\n",
      " |-- Nom_Districte: string (nullable = true)\n",
      " |-- Valor_int: integer (nullable = true)\n",
      " |-- SEXE_desc: string (nullable = true)\n",
      " |-- NACIONALITAT_REGIO_desc: string (nullable = true)\n",
      " |-- Codi_Barri: integer (nullable = true)\n",
      " |-- Any: integer (nullable = true)\n",
      "\n",
      "root\n",
      " |-- FITXA_ID: integer (nullable = true)\n",
      " |-- TIPUS: string (nullable = true)\n",
      " |-- AREA: string (nullable = true)\n",
      " |-- ELEMENT: string (nullable = true)\n",
      " |-- DETALL: string (nullable = true)\n",
      " |-- DIA_DATA_ALTA: integer (nullable = true)\n",
      " |-- MES_DATA_ALTA: integer (nullable = true)\n",
      " |-- DIA_DATA_TANCAMENT: integer (nullable = true)\n",
      " |-- MES_DATA_TANCAMENT: integer (nullable = true)\n",
      " |-- ANY_DATA_TANCAMENT: integer (nullable = true)\n",
      " |-- Codi_Districte: integer (nullable = true)\n",
      " |-- DISTRICTE: string (nullable = true)\n",
      " |-- BARRI: string (nullable = true)\n",
      " |-- SECCIO_CENSAL: integer (nullable = true)\n",
      " |-- TIPUS_VIA: string (nullable = true)\n",
      " |-- CARRER: string (nullable = true)\n",
      " |-- NUMERO: integer (nullable = true)\n",
      " |-- COORDENADA_X: double (nullable = true)\n",
      " |-- COORDENADA_Y: double (nullable = true)\n",
      " |-- LONGITUD: double (nullable = true)\n",
      " |-- LATITUD: double (nullable = true)\n",
      " |-- SUPORT: string (nullable = true)\n",
      " |-- CANALS_RESPOSTA: string (nullable = true)\n",
      " |-- Codi_Barri: integer (nullable = true)\n",
      " |-- Any: integer (nullable = true)\n",
      "\n"
     ]
    }
   ],
   "source": [
    "income.printSchema()\n",
    "population.printSchema()\n",
    "incidences.printSchema()"
   ]
  },
  {
   "cell_type": "code",
   "execution_count": 3,
   "id": "40927bb1",
   "metadata": {},
   "outputs": [
    {
     "name": "stdout",
     "output_type": "stream",
     "text": [
      "+--------------+--------------------+-------------+---------+---------+-----------------------+----------+----+\n",
      "|Codi_Districte|           Nom_Barri|Nom_Districte|Valor_int|SEXE_desc|NACIONALITAT_REGIO_desc|Codi_Barri| Any|\n",
      "+--------------+--------------------+-------------+---------+---------+-----------------------+----------+----+\n",
      "|             1|Sant Pere, Santa ...| Ciutat Vella|      240|   Female|        Northern Africa|         4|2017|\n",
      "|             1|Sant Pere, Santa ...| Ciutat Vella|      562|     Male|        Northern Africa|         4|2017|\n",
      "|             1|Sant Pere, Santa ...| Ciutat Vella|        6|     Male|        Southern Africa|         4|2017|\n",
      "|             1|Sant Pere, Santa ...| Ciutat Vella|       13|   Female|         Western Africa|         4|2017|\n",
      "|             1|Sant Pere, Santa ...| Ciutat Vella|      127|     Male|         Western Africa|         4|2017|\n",
      "|             1|Sant Pere, Santa ...| Ciutat Vella|      101|   Female|              Caribbean|         4|2017|\n",
      "|             1|Sant Pere, Santa ...| Ciutat Vella|       78|     Male|              Caribbean|         4|2017|\n",
      "|             1|Sant Pere, Santa ...| Ciutat Vella|      171|   Female|        Central America|         4|2017|\n",
      "|             1|Sant Pere, Santa ...| Ciutat Vella|      139|     Male|        Central America|         4|2017|\n",
      "|             1|Sant Pere, Santa ...| Ciutat Vella|      665|   Female|          South America|         4|2017|\n",
      "+--------------+--------------------+-------------+---------+---------+-----------------------+----------+----+\n",
      "only showing top 10 rows\n",
      "\n"
     ]
    }
   ],
   "source": [
    "population.show(10)"
   ]
  },
  {
   "cell_type": "markdown",
   "id": "70599d4e",
   "metadata": {},
   "source": [
    "### Multiculutral index"
   ]
  },
  {
   "cell_type": "markdown",
   "id": "116bbd88",
   "metadata": {},
   "source": [
    "We are going to create the **Shannon Diversity Index**, a measure of biodiversity that considers both the number of species (richness) and their relative abundance (evenness) within a community. A higher Shannon index generally indicates a more diverse and balanced community, while a lower index suggests a less diverse community, potentially dominated by one or a few species.\n",
    "\n",
    "In this project, we apply this concept to human populations, using the diversity of nationalities present in a given region. While the Shannon Index is typically used to measure species evenness in ecological communities, we found it an interesting approach to use it for analyzing human diversity — since, biologically, humans are part of the animal kingdom.\n",
    "\n",
    "**Note:**\n",
    "Melisa and Pol — we are completely against any form of racism or discrimination. This project and its analysis are purely observational and neutral. There is no judgment of \"good\" or \"bad\" in this context. We simply thought it would be insightful to apply the Shannon Diversity Index to the datasets provided in class.\n",
    "\n",
    "We calculate the diversity index of each neighborhood (barri) by treating each \"NACIONALITAT_REGIO_desc\" as a distinct \"species\" for the purpose of the calculation. However, we are fully aware that all humans are equal — we are all part of the same species. We hope this project is not misunderstood, and that its purpose and objectives are seen clearly as an exploration of data, not a commentary on value or worth."
   ]
  },
  {
   "cell_type": "markdown",
   "id": "b7cbbf5a",
   "metadata": {},
   "source": [
    "$H=−∑p_i⋅log(p_i)$ \n",
    "\n",
    "Where $p_i$ is the proportion of people of a nationality in neighborhood."
   ]
  },
  {
   "cell_type": "code",
   "execution_count": 4,
   "id": "8d1177ad",
   "metadata": {},
   "outputs": [],
   "source": [
    "\"\"\" Fist we calculate the tot_nac that is the total population by region and year. Then we calculate the tot_barri that is the total population by neighborhood and year.\n",
    "Finally, we join both DataFrames to calculate p_i = total_regio / total_barri\n",
    "Then we calculate the Shannon index for each neighborhood and year using the formula H = -sum(p_i * log(p_i)).\"\"\"\n",
    "\n",
    "\n",
    "tot_nac = (population\n",
    "           .groupBy(\"Codi_Barri\", \"Any\", \"NACIONALITAT_REGIO_desc\",\"Nom_Barri\")\n",
    "           .agg(F.sum(\"Valor_int\").alias(\"total_regio\")))\n",
    "\n",
    "tot_barri = (population\n",
    "             .groupBy(\"Codi_Barri\", \"Any\",\"Nom_Barri\")\n",
    "             .agg(F.sum(\"Valor_int\").alias(\"total_barri\")))\n",
    "\n",
    "# Join both dattasets with a inner joint  p_i = total_regio / total_barri\n",
    "joined = (tot_nac\n",
    "          .join(tot_barri, on=[\"Codi_Barri\", \"Any\",\"Nom_Barri\"], how=\"inner\")\n",
    "          .withColumn(\"p_i\", F.col(\"total_regio\") / F.col(\"total_barri\")))\n",
    "\n",
    "# H = -sum(p_i * log(p_i))\n",
    "joined = joined.withColumn(\"p_logp\", -F.col(\"p_i\") * F.log(F.col(\"p_i\")))\n",
    "shannon_index = (joined\n",
    "                 .groupBy(\"Codi_Barri\", \"Any\",\"Nom_Barri\")\n",
    "                 .agg(F.sum(\"p_logp\").alias(\"shannon_index\")))\n"
   ]
  },
  {
   "cell_type": "code",
   "execution_count": 5,
   "id": "456b8571",
   "metadata": {},
   "outputs": [
    {
     "name": "stdout",
     "output_type": "stream",
     "text": [
      "+----------+----+--------------------+-------------------+\n",
      "|Codi_Barri| Any|           Nom_Barri|      shannon_index|\n",
      "+----------+----+--------------------+-------------------+\n",
      "|        49|2016|           Canyelles|0.22710819806587076|\n",
      "|         1|2017|            el Raval| 1.5682470015494185|\n",
      "|        58|2015|       Baró de Viver| 0.4522842304431748|\n",
      "|        22|2016|Vallvidrera, el T...| 0.5073731033954247|\n",
      "|        63|2016|               Navas| 0.6192463791754728|\n",
      "|        66|2016|el Parc i la Llac...| 0.8311868872025775|\n",
      "|        52|2015|      la Prosperitat| 0.6366973991934503|\n",
      "|        61|2014|          la Sagrera| 0.5810116441918528|\n",
      "|         7|2017|la Dreta de l'Eix...| 0.8535846455922169|\n",
      "|        23|2016|              Sarrià| 0.5158249536786634|\n",
      "+----------+----+--------------------+-------------------+\n",
      "only showing top 10 rows\n",
      "\n"
     ]
    }
   ],
   "source": [
    "shannon_index.show(10)"
   ]
  },
  {
   "cell_type": "markdown",
   "id": "d5215f63",
   "metadata": {},
   "source": [
    "The advantage of using the Shannon Diversity Index is that it not only counts how many different nationalities are present, but also considers how evenly they are distributed within the same region. For example, if a neighborhood has 10 different nationalities but one of them makes up 90% of the population, it will have a lower index than another neighborhood where all nationalities are more evenly distributed."
   ]
  },
  {
   "cell_type": "code",
   "execution_count": 6,
   "id": "ced411ab",
   "metadata": {},
   "outputs": [],
   "source": [
    "#multi = (tot_nac.filter(\"total_regio > 0\").groupBy(\"Codi_Barri\").agg(F.countDistinct(\"NACIONALITAT_REGIO_desc\").alias(\"multicultural_idx\")))"
   ]
  },
  {
   "cell_type": "code",
   "execution_count": 7,
   "id": "527a0624",
   "metadata": {},
   "outputs": [],
   "source": [
    "# i will save partitioned by year, but this should be in the formatted_zone\n",
    "shannon_index.write \\\n",
    "    .option(\"header\", True) \\\n",
    "    .mode(\"overwrite\") \\\n",
    "    .csv(\"exploitation_zone/shannon_index\")\n",
    "\n",
    "#.partitionBy(\"Any\") \\"
   ]
  },
  {
   "cell_type": "code",
   "execution_count": 8,
   "id": "2799c3c1",
   "metadata": {},
   "outputs": [
    {
     "name": "stdout",
     "output_type": "stream",
     "text": [
      "+----------+----+-----------------------+--------------------+-----------+\n",
      "|Codi_Barri| Any|NACIONALITAT_REGIO_desc|           Nom_Barri|total_regio|\n",
      "+----------+----+-----------------------+--------------------+-----------+\n",
      "|        26|2014|        Central America|Sant Gervasi - Ga...|        304|\n",
      "|         8|2017|           Central Asia|l'Antiga Esquerra...|         23|\n",
      "|        26|2014|   Australia and New...|Sant Gervasi - Ga...|         14|\n",
      "|        69|2015|        Southern Europe|Diagonal Mar i el...|      11532|\n",
      "|         4|2015|          Southern Asia|Sant Pere, Santa ...|        655|\n",
      "|         4|2014|       Northern America|Sant Pere, Santa ...|        223|\n",
      "|        27|2017|         Western Europe|el Putxet i el Farró|        608|\n",
      "|        66|2017|         Western Europe|el Parc i la Llac...|        387|\n",
      "|         4|2017|          South America|Sant Pere, Santa ...|       1280|\n",
      "|        69|2016|           Central Asia|Diagonal Mar i el...|          8|\n",
      "|        66|2017|         Eastern Europe|el Parc i la Llac...|        364|\n",
      "|        69|2016|           Western Asia|Diagonal Mar i el...|         61|\n",
      "|        69|2015|         Western Europe|Diagonal Mar i el...|        382|\n",
      "|        25|2016|     South-Eastern Asia|Sant Gervasi - la...|         62|\n",
      "|         8|2017|        Northern Africa|l'Antiga Esquerra...|        176|\n",
      "|        32|2016|   Australia and New...|el Camp d'en Gras...|          5|\n",
      "|         9|2016|          Not available|la Nova Esquerra ...|          6|\n",
      "|        66|2015|         Western Europe|el Parc i la Llac...|        358|\n",
      "|        66|2017|          South America|el Parc i la Llac...|        586|\n",
      "|        69|2016|              Caribbean|Diagonal Mar i el...|         13|\n",
      "|         8|2016|          Not available|l'Antiga Esquerra...|          5|\n",
      "|         4|2016|        Northern Europe|Sant Pere, Santa ...|        927|\n",
      "|        26|2015|          Middle Africa|Sant Gervasi - Ga...|          5|\n",
      "|        26|2015|         Eastern Europe|Sant Gervasi - Ga...|        396|\n",
      "|        69|2016|          South America|Diagonal Mar i el...|        333|\n",
      "|         8|2015|        Central America|l'Antiga Esquerra...|        384|\n",
      "|        32|2014|        Central America|el Camp d'en Gras...|        186|\n",
      "|        69|2015|           Eastern Asia|Diagonal Mar i el...|        129|\n",
      "|        66|2015|           Central Asia|el Parc i la Llac...|          7|\n",
      "|        66|2017|          Southern Asia|el Parc i la Llac...|        138|\n",
      "|         4|2014|          Not available|Sant Pere, Santa ...|          5|\n",
      "|        25|2017|        Central America|Sant Gervasi - la...|        151|\n",
      "|        69|2017|          South America|Diagonal Mar i el...|        363|\n",
      "|         8|2016|           Western Asia|l'Antiga Esquerra...|        154|\n",
      "|         4|2014|           Western Asia|Sant Pere, Santa ...|        106|\n",
      "|        26|2014|         Western Europe|Sant Gervasi - Ga...|       1021|\n",
      "|         9|2014|           Western Asia|la Nova Esquerra ...|        223|\n",
      "|        69|2016|         Western Europe|Diagonal Mar i el...|        371|\n",
      "|        32|2014|         Eastern Europe|el Camp d'en Gras...|        301|\n",
      "|        32|2014|         Western Europe|el Camp d'en Gras...|        508|\n",
      "|         4|2016|        Northern Africa|Sant Pere, Santa ...|        756|\n",
      "|        26|2015|           Central Asia|Sant Gervasi - Ga...|         19|\n",
      "|         9|2015|        Northern Africa|la Nova Esquerra ...|        267|\n",
      "|         9|2015|         Western Africa|la Nova Esquerra ...|         43|\n",
      "|         9|2016|         Western Europe|la Nova Esquerra ...|        952|\n",
      "|         4|2017|         Eastern Europe|Sant Pere, Santa ...|        636|\n",
      "|         9|2015|        Southern Europe|la Nova Esquerra ...|      49591|\n",
      "|        69|2014|        Southern Europe|Diagonal Mar i el...|      11320|\n",
      "|         8|2015|          Not available|l'Antiga Esquerra...|          5|\n",
      "|        69|2017|          Southern Asia|Diagonal Mar i el...|         57|\n",
      "|        69|2014|        Northern Europe|Diagonal Mar i el...|        187|\n",
      "|        66|2015|           Eastern Asia|el Parc i la Llac...|        331|\n",
      "|        26|2014|         Eastern Africa|Sant Gervasi - Ga...|          6|\n",
      "|         9|2016|              Caribbean|la Nova Esquerra ...|        219|\n",
      "|        69|2014|           Western Asia|Diagonal Mar i el...|         56|\n",
      "|        66|2017|       Northern America|el Parc i la Llac...|        101|\n",
      "|         8|2017|       Northern America|l'Antiga Esquerra...|        303|\n",
      "|         9|2015|           Eastern Asia|la Nova Esquerra ...|       1265|\n",
      "|        69|2017|         Eastern Europe|Diagonal Mar i el...|        563|\n",
      "|        32|2016|           Western Asia|el Camp d'en Gras...|        149|\n",
      "|        69|2017|        Southern Europe|Diagonal Mar i el...|      11582|\n",
      "|        25|2016|           Western Asia|Sant Gervasi - la...|         66|\n",
      "|        66|2015|        Central America|el Parc i la Llac...|         96|\n",
      "|         4|2017|   Australia and New...|Sant Pere, Santa ...|         47|\n",
      "|        26|2015|   Australia and New...|Sant Gervasi - Ga...|         12|\n",
      "|         9|2014|        Southern Europe|la Nova Esquerra ...|      49254|\n",
      "|        32|2014|     South-Eastern Asia|el Camp d'en Gras...|         33|\n",
      "|        26|2016|       Northern America|Sant Gervasi - Ga...|        292|\n",
      "|        66|2014|         Western Africa|el Parc i la Llac...|         40|\n",
      "|        32|2016|       Northern America|el Camp d'en Gras...|         77|\n",
      "|        32|2014|          South America|el Camp d'en Gras...|       1153|\n",
      "|        27|2017|       Northern America|el Putxet i el Farró|        121|\n",
      "|         8|2017|          Southern Asia|l'Antiga Esquerra...|        278|\n",
      "|         9|2015|          Middle Africa|la Nova Esquerra ...|         15|\n",
      "|         9|2015|           Western Asia|la Nova Esquerra ...|        215|\n",
      "|         4|2015|     South-Eastern Asia|Sant Pere, Santa ...|        299|\n",
      "|        26|2016|          South America|Sant Gervasi - Ga...|        963|\n",
      "|         4|2017|     South-Eastern Asia|Sant Pere, Santa ...|        295|\n",
      "|        66|2014|        Northern Europe|el Parc i la Llac...|        172|\n",
      "|        69|2017|        Northern Africa|Diagonal Mar i el...|        134|\n",
      "|         4|2016|        Central America|Sant Pere, Santa ...|        230|\n",
      "|        32|2016|        Central America|el Camp d'en Gras...|        205|\n",
      "|        26|2017|         Eastern Africa|Sant Gervasi - Ga...|          8|\n",
      "|         9|2017|          Not available|la Nova Esquerra ...|          6|\n",
      "|         9|2016|        Northern Africa|la Nova Esquerra ...|        271|\n",
      "|         9|2016|   Australia and New...|la Nova Esquerra ...|          6|\n",
      "|        25|2016|        Northern Europe|Sant Gervasi - la...|        144|\n",
      "|         9|2014|          Southern Asia|la Nova Esquerra ...|        348|\n",
      "|        26|2017|     South-Eastern Asia|Sant Gervasi - Ga...|        164|\n",
      "|         8|2016|        Central America|l'Antiga Esquerra...|        396|\n",
      "|        26|2015|        Southern Europe|Sant Gervasi - Ga...|      42456|\n",
      "|         9|2014|              Caribbean|la Nova Esquerra ...|        267|\n",
      "|        69|2017|        Central America|Diagonal Mar i el...|         45|\n",
      "|        26|2016|         Eastern Europe|Sant Gervasi - Ga...|        432|\n",
      "|        66|2015|     South-Eastern Asia|el Parc i la Llac...|         30|\n",
      "|        27|2017|           Eastern Asia|el Putxet i el Farró|        233|\n",
      "|        69|2017|       Northern America|Diagonal Mar i el...|         39|\n",
      "|         4|2017|        Central America|Sant Pere, Santa ...|        310|\n",
      "|        26|2014|        Northern Europe|Sant Gervasi - Ga...|        339|\n",
      "|        26|2016|         Western Europe|Sant Gervasi - Ga...|       1035|\n",
      "+----------+----+-----------------------+--------------------+-----------+\n",
      "only showing top 100 rows\n",
      "\n"
     ]
    }
   ],
   "source": [
    "tot_nac.show(100)"
   ]
  },
  {
   "cell_type": "markdown",
   "id": "adc17ef4",
   "metadata": {},
   "source": [
    "### Income inequality per district (GINI coefficient)\n",
    "\n",
    "The Gini coeffient is often used in econocmics to tract income inequality within a population. While it is most often used to track inequality between individuals in a group, it can also be used to track inequality in between neighborhoods of a disctrict, which is what we will be doing. The formula for the Gini coefficient is as follows:\n",
    "\n",
    "$$gini\\_coefficient = \\frac{2 \\times rank\\_income\\_sum}{n \\times total\\_income} - \\frac{n + 1}{n}$$\n",
    "\n",
    "where $n$ is the number of member neighborhoods within a district and: \n",
    "\n",
    "rank_income_sum = $\\sum_{i=1}^{n} i \\times y_i$\n",
    "\n",
    "total_income = $\\sum_{i=1}^{n} y_i$"
   ]
  },
  {
   "cell_type": "markdown",
   "id": "740018fb",
   "metadata": {},
   "source": [
    "keep in mine eixample has 6 not 24 "
   ]
  },
  {
   "cell_type": "code",
   "execution_count": 9,
   "id": "63671323",
   "metadata": {},
   "outputs": [],
   "source": [
    "income_clean = income \\\n",
    "    .withColumnRenamed(\"Codi_Districte\", \"district_code\") \\\n",
    "    .withColumnRenamed(\"Nom_Districte\", \"district_name\") \\\n",
    "    .withColumnRenamed(\"Codi_Barri\", \"neighborhood_code\") \\\n",
    "    .withColumnRenamed(\"Nom_Barri\", \"neighborhood_name\") \\\n",
    "    .withColumnRenamed(\"Índex RFD Barcelona = 100\", \"income_index\") \\\n",
    "    .withColumnRenamed(\"Població\", \"population\") \\\n",
    "    .withColumnRenamed(\"Any\", \"year\") \\\n",
    "    .filter(F.col(\"income_index\").isNotNull())"
   ]
  },
  {
   "cell_type": "code",
   "execution_count": 10,
   "id": "733d2eca",
   "metadata": {},
   "outputs": [
    {
     "name": "stdout",
     "output_type": "stream",
     "text": [
      "+----+-------------------+-------------+----------+-----+-----+-------------------+\n",
      "|year|district_name      |district_code|avg_income|gini |cv   |neighborhoods_count|\n",
      "+----+-------------------+-------------+----------+-----+-----+-------------------+\n",
      "|2014|Gràcia             |6            |102.5     |0.061|0.13 |5                  |\n",
      "|2014|Sarrià-Sant Gervasi|5            |183.3     |0.074|0.15 |6                  |\n",
      "|2014|Ciutat Vella       |1            |85.4      |0.077|0.166|4                  |\n",
      "|2014|Horta-Guinardó     |7            |80.3      |0.078|0.15 |11                 |\n",
      "|2014|Sants-Montjuïc     |3            |71.7      |0.089|0.198|8                  |\n",
      "|2014|Nou Barris         |8            |50.4      |0.093|0.172|13                 |\n",
      "|2014|Sant Andreu        |9            |67.6      |0.097|0.19 |7                  |\n",
      "|2014|Eixample           |2            |116.1     |0.11 |0.232|6                  |\n",
      "|2014|Les Corts          |4            |163.2     |0.189|0.471|3                  |\n",
      "|2014|Sant Martí         |10           |94.1      |0.194|0.396|10                 |\n",
      "|2015|Gràcia             |6            |104.8     |0.045|0.094|5                  |\n",
      "|2015|Horta-Guinardó     |7            |83.3      |0.071|0.139|11                 |\n",
      "|2015|Sarrià-Sant Gervasi|5            |183.3     |0.081|0.164|6                  |\n",
      "|2015|Ciutat Vella       |1            |89.3      |0.082|0.178|4                  |\n",
      "|2015|Sants-Montjuïc     |3            |73.3      |0.096|0.216|8                  |\n",
      "|2015|Nou Barris         |8            |50.0      |0.102|0.19 |13                 |\n",
      "|2015|Eixample           |2            |116.3     |0.106|0.232|6                  |\n",
      "|2015|Sant Andreu        |9            |67.1      |0.11 |0.214|7                  |\n",
      "|2015|Les Corts          |4            |161.6     |0.193|0.478|3                  |\n",
      "|2015|Sant Martí         |10           |95.2      |0.195|0.381|10                 |\n",
      "|2016|Gràcia             |6            |104.7     |0.058|0.121|5                  |\n",
      "|2016|Horta-Guinardó     |7            |83.7      |0.068|0.139|11                 |\n",
      "|2016|Nou Barris         |8            |52.0      |0.08 |0.156|13                 |\n",
      "|2016|Ciutat Vella       |1            |91.9      |0.082|0.17 |4                  |\n",
      "|2016|Sant Andreu        |9            |70.6      |0.083|0.167|7                  |\n",
      "|2016|Sants-Montjuïc     |3            |75.5      |0.086|0.172|8                  |\n",
      "|2016|Sarrià-Sant Gervasi|5            |175.8     |0.091|0.185|6                  |\n",
      "|2016|Eixample           |2            |119.9     |0.11 |0.24 |6                  |\n",
      "|2016|Les Corts          |4            |158.9     |0.179|0.456|3                  |\n",
      "|2016|Sant Martí         |10           |95.3      |0.192|0.379|10                 |\n",
      "|2017|Gràcia             |6            |103.9     |0.044|0.096|5                  |\n",
      "|2017|Horta-Guinardó     |7            |82.5      |0.071|0.143|11                 |\n",
      "|2017|Nou Barris         |8            |51.4      |0.076|0.144|13                 |\n",
      "|2017|Sant Andreu        |9            |70.4      |0.079|0.166|7                  |\n",
      "|2017|Sarrià-Sant Gervasi|5            |179.1     |0.08 |0.161|6                  |\n",
      "|2017|Ciutat Vella       |1            |89.1      |0.087|0.184|4                  |\n",
      "|2017|Eixample           |2            |122.6     |0.107|0.237|6                  |\n",
      "|2017|Sants-Montjuïc     |3            |79.1      |0.114|0.236|8                  |\n",
      "|2017|Les Corts          |4            |161.0     |0.186|0.473|3                  |\n",
      "|2017|Sant Martí         |10           |96.7      |0.19 |0.371|10                 |\n",
      "+----+-------------------+-------------+----------+-----+-----+-------------------+\n",
      "\n"
     ]
    }
   ],
   "source": [
    "\n",
    "window_district_year = Window.partitionBy(\"district_code\", \"year\").orderBy(\"income_index\")\n",
    "gini_prep = income_clean.withColumn(\"rank\", F.row_number().over(window_district_year))\n",
    "\n",
    "gini_components = gini_prep.groupBy(\"district_code\", \"district_name\", \"year\").agg(\n",
    "    F.sum(F.col(\"rank\") * F.col(\"income_index\")).alias(\"rank_income_sum\"),\n",
    "    F.sum(\"income_index\").alias(\"total_income\"),\n",
    "    F.count(\"neighborhood_code\").alias(\"n\")\n",
    ")\n",
    "\n",
    "gini_coefficients = gini_components.withColumn(\n",
    "    \"gini_coefficient\",\n",
    "    (2 * F.col(\"rank_income_sum\")) / (F.col(\"n\") * F.col(\"total_income\")) - (F.col(\"n\") + 1) / F.col(\"n\")\n",
    ")\n",
    "\n",
    "district_stats = income_clean.groupBy(\"district_code\", \"district_name\", \"year\").agg(\n",
    "    F.avg(\"income_index\").alias(\"mean_income\"),\n",
    "    F.expr(\"percentile_approx(income_index, 0.5)\").alias(\"median_income\"),\n",
    "\n",
    "    F.min(\"income_index\").alias(\"min_income\"),\n",
    "    F.max(\"income_index\").alias(\"max_income\"),\n",
    "    F.stddev(\"income_index\").alias(\"income_stddev\"),\n",
    "    F.variance(\"income_index\").alias(\"income_variance\"),\n",
    "\n",
    "    F.count(\"neighborhood_code\").alias(\"neighborhoods_count\"),\n",
    "    F.sum(\"population\").alias(\"total_population\"),\n",
    "    F.avg(\"population\").alias(\"avg_neighborhood_population\")\n",
    ").join(\n",
    "    gini_coefficients.select(\"district_code\", \"year\", \"gini_coefficient\"),\n",
    "    [\"district_code\", \"year\"]\n",
    ").withColumn(\n",
    "    \"coefficient_of_variation\",\n",
    "    F.col(\"income_stddev\") / F.col(\"mean_income\")\n",
    ").orderBy(\"year\", \"gini_coefficient\")\n",
    "\n",
    "district_stats.select(\n",
    "    \"year\",\n",
    "    \"district_name\",\n",
    "    \"district_code\",\n",
    "    F.round(\"mean_income\", 1).alias(\"avg_income\"),\n",
    "    F.round(\"gini_coefficient\", 3).alias(\"gini\"),\n",
    "    F.round(\"coefficient_of_variation\", 3).alias(\"cv\"),\n",
    "    \"neighborhoods_count\"\n",
    ").show(50, truncate=False)"
   ]
  },
  {
   "cell_type": "code",
   "execution_count": 11,
   "id": "cf8a5c2f",
   "metadata": {},
   "outputs": [],
   "source": [
    "district_stats.write \\\n",
    "    .option(\"header\", True) \\\n",
    "    .mode(\"overwrite\") \\\n",
    "    .csv(\"exploitation_zone/gini_coefficients\")"
   ]
  },
  {
   "cell_type": "markdown",
   "id": "fecc75b4",
   "metadata": {},
   "source": [
    "### Average Incident Resolution Time Per Neighborhood\n",
    "\n",
    "We calculate the **Average Incident Resolution Time** per Neighborhood as a key performance indicator for public safety and emergency response efficiency. This metric measures how quickly incidents are resolved from the moment they are reported until they are officially closed, expressed in days. The resolution time is computed by finding the difference between the incident closure date and the incident creation date for each neighborhood and year.\n",
    "This KPI helps identify service efficiency patterns across Barcelona's neighborhoods, revealing areas where emergency services respond more quickly or slowly. Lower average resolution times indicate more efficient incident management, while higher times may suggest areas needing additional resources or process improvements. However, our analysis reveals potential data quality issues, as many incidents show identical creation and closure dates (0-day resolution), which may indicate systematic data entry practices or bulk processing rather than actual same-day resolution of all incidents."
   ]
  },
  {
   "cell_type": "code",
   "execution_count": 12,
   "id": "f43d787b",
   "metadata": {},
   "outputs": [
    {
     "name": "stderr",
     "output_type": "stream",
     "text": [
      "[Stage 45:================================>                      (52 + 11) / 88]\r"
     ]
    },
    {
     "name": "stdout",
     "output_type": "stream",
     "text": [
      "+----------+----+-------------------+---------------+-------------------+-------------------+\n",
      "|Codi_Barri| Any|avg_resolution_days|total_incidents|min_resolution_days|max_resolution_days|\n",
      "+----------+----+-------------------+---------------+-------------------+-------------------+\n",
      "|         1|2013| 45.166666666666664|             30|                  2|                202|\n",
      "|         1|2014|  6.877161055505004|           2198|                  0|                310|\n",
      "|         1|2015|    8.1679607682877|           2447|                  0|                325|\n",
      "|         1|2016|  9.845474613686534|           2718|                  0|                177|\n",
      "|         1|2017|  10.79578886645515|           3467|                  0|                144|\n",
      "|         2|2013|               20.5|             22|                  7|                 84|\n",
      "|         2|2014|  8.230582524271844|           1648|                  0|                353|\n",
      "|         2|2015|  8.825335892514396|           1563|                  0|                180|\n",
      "|         2|2016| 10.890201870999508|           2031|                  0|                398|\n",
      "|         2|2017| 11.437529467232437|           2121|                  0|                271|\n",
      "+----------+----+-------------------+---------------+-------------------+-------------------+\n",
      "only showing top 10 rows\n",
      "\n"
     ]
    },
    {
     "name": "stderr",
     "output_type": "stream",
     "text": [
      "                                                                                \r"
     ]
    }
   ],
   "source": [
    "incident_with_dates = (incidences\n",
    "                      .withColumn(\"creation_date\",\n",
    "                                 F.to_date(F.concat_ws(\"-\", F.col(\"Any\"), F.col(\"MES_DATA_ALTA\"), F.col(\"DIA_DATA_ALTA\")), \"yyyy-M-d\"))\n",
    "                      .withColumn(\"closure_date\",\n",
    "                                 F.to_date(F.concat_ws(\"-\", F.col(\"ANY_DATA_TANCAMENT\"), F.col(\"MES_DATA_TANCAMENT\"), F.col(\"DIA_DATA_TANCAMENT\")), \"yyyy-M-d\"))\n",
    "                      .filter(F.col(\"creation_date\").isNotNull() & F.col(\"closure_date\").isNotNull()))\n",
    "\n",
    "# resolution time\n",
    "incident_resolution = (incident_with_dates\n",
    "                      .withColumn(\"resolution_days\",\n",
    "                                 F.datediff(F.col(\"closure_date\"), F.col(\"creation_date\")))\n",
    "                      .filter(F.col(\"resolution_days\") >= 0))\n",
    "\n",
    "# average resolution time per neighborhood and year\n",
    "avg_resolution_time = (incident_resolution\n",
    "                      .groupBy(\"Codi_Barri\", \"Any\")\n",
    "                      .agg(F.avg(\"resolution_days\").alias(\"avg_resolution_days\"),\n",
    "                           F.count(\"*\").alias(\"total_incidents\"),\n",
    "                           F.min(\"resolution_days\").alias(\"min_resolution_days\"),\n",
    "                           F.max(\"resolution_days\").alias(\"max_resolution_days\"))\n",
    "                      .orderBy(\"Codi_Barri\", \"Any\"))\n",
    "\n",
    "avg_resolution_time.show(10)"
   ]
  },
  {
   "cell_type": "code",
   "execution_count": 13,
   "id": "d56d79e4",
   "metadata": {},
   "outputs": [
    {
     "name": "stderr",
     "output_type": "stream",
     "text": [
      "                                                                                \r"
     ]
    }
   ],
   "source": [
    "avg_resolution_time.write \\\n",
    "    .option(\"header\", True) \\\n",
    "    .mode(\"overwrite\") \\\n",
    "    .csv(\"exploitation_zone/avg_resolution_time\")"
   ]
  },
  {
   "cell_type": "code",
   "execution_count": 15,
   "id": "6c6743f5",
   "metadata": {},
   "outputs": [
    {
     "name": "stderr",
     "output_type": "stream",
     "text": [
      "[Stage 59:============================>                          (46 + 11) / 88]\r"
     ]
    },
    {
     "name": "stdout",
     "output_type": "stream",
     "text": [
      "+----------+-----+\n",
      "|Codi_Barri|count|\n",
      "+----------+-----+\n",
      "|        31|11510|\n",
      "|         7|10915|\n",
      "|         1|10860|\n",
      "|        18| 9409|\n",
      "|        60| 9278|\n",
      "|        68| 9245|\n",
      "|         4| 8502|\n",
      "|         9| 8379|\n",
      "|        26| 8265|\n",
      "|        11| 8249|\n",
      "|        19| 8240|\n",
      "|        35| 7498|\n",
      "|         2| 7385|\n",
      "|         8| 7211|\n",
      "|         6| 6575|\n",
      "|        37| 6505|\n",
      "|        10| 6423|\n",
      "|        43| 6309|\n",
      "|        13| 5721|\n",
      "|        64| 5299|\n",
      "+----------+-----+\n",
      "only showing top 20 rows\n",
      "\n"
     ]
    },
    {
     "name": "stderr",
     "output_type": "stream",
     "text": [
      "                                                                                \r"
     ]
    }
   ],
   "source": [
    "from pyspark.sql.functions import col, sum as spark_sum, when, isnan, isnull\n",
    "incidences.groupBy(\"Codi_Barri\").count().orderBy(\"count\", ascending=False).show()"
   ]
  },
  {
   "cell_type": "code",
   "execution_count": 16,
   "id": "b51d1291",
   "metadata": {},
   "outputs": [
    {
     "name": "stdout",
     "output_type": "stream",
     "text": [
      "+-------------+-------------+----+----------+------------------+------------------+------------------+--------+\n",
      "|DIA_DATA_ALTA|MES_DATA_ALTA| Any|Codi_Barri|DIA_DATA_TANCAMENT|MES_DATA_TANCAMENT|ANY_DATA_TANCAMENT|same_day|\n",
      "+-------------+-------------+----+----------+------------------+------------------+------------------+--------+\n",
      "|           17|            7|2016|         1|                18|                 7|              2016|   false|\n",
      "|           18|            7|2016|         1|                18|                 7|              2016|    true|\n",
      "|           18|            7|2016|         1|                18|                 7|              2016|    true|\n",
      "|           27|            4|2016|         1|                19|                 7|              2016|   false|\n",
      "|           27|            6|2016|         1|                19|                 7|              2016|   false|\n",
      "|            1|            7|2016|         1|                19|                 7|              2016|   false|\n",
      "|            5|            7|2016|         1|                19|                 7|              2016|   false|\n",
      "|            5|            7|2016|         1|                19|                 7|              2016|   false|\n",
      "|            6|            7|2016|         1|                19|                 7|              2016|   false|\n",
      "|            7|            7|2016|         1|                19|                 7|              2016|   false|\n",
      "|            8|            7|2016|         1|                19|                 7|              2016|   false|\n",
      "|           10|            7|2016|         1|                19|                 7|              2016|   false|\n",
      "|           11|            7|2016|         1|                19|                 7|              2016|   false|\n",
      "|           12|            7|2016|         1|                19|                 7|              2016|   false|\n",
      "|           12|            7|2016|         1|                19|                 7|              2016|   false|\n",
      "|           13|            7|2016|         1|                19|                 7|              2016|   false|\n",
      "|           16|            7|2016|         1|                19|                 7|              2016|   false|\n",
      "|           19|            7|2016|         1|                19|                 7|              2016|    true|\n",
      "|           19|            7|2016|         1|                19|                 7|              2016|    true|\n",
      "|           19|            7|2016|         1|                19|                 7|              2016|    true|\n",
      "+-------------+-------------+----+----------+------------------+------------------+------------------+--------+\n",
      "only showing top 20 rows\n",
      "\n"
     ]
    },
    {
     "name": "stderr",
     "output_type": "stream",
     "text": [
      "[Stage 63:==================================>                    (55 + 11) / 88]\r"
     ]
    },
    {
     "name": "stdout",
     "output_type": "stream",
     "text": [
      "+---------+------+\n",
      "|same_date| count|\n",
      "+---------+------+\n",
      "|     true| 52988|\n",
      "|    false|269534|\n",
      "+---------+------+\n",
      "\n"
     ]
    },
    {
     "name": "stderr",
     "output_type": "stream",
     "text": [
      "                                                                                \r"
     ]
    }
   ],
   "source": [
    "\n",
    "debug_neighborhood_1 = (incidences\n",
    "                       .filter((F.col(\"Codi_Barri\") == 1) & (F.col(\"Any\") == 2016))\n",
    "                       .select(\"DIA_DATA_ALTA\", \"MES_DATA_ALTA\", \"Any\",\"Codi_Barri\",\n",
    "                              \"DIA_DATA_TANCAMENT\", \"MES_DATA_TANCAMENT\", \"ANY_DATA_TANCAMENT\")\n",
    "                       .withColumn(\"same_day\",\n",
    "                                  (F.col(\"DIA_DATA_ALTA\") == F.col(\"DIA_DATA_TANCAMENT\")) &\n",
    "                                  (F.col(\"MES_DATA_ALTA\") == F.col(\"MES_DATA_TANCAMENT\")) &\n",
    "                                  (F.col(\"Any\") == F.col(\"ANY_DATA_TANCAMENT\"))))\n",
    "\n",
    "debug_neighborhood_1.show()\n",
    "\n",
    "same_date_check = (incidences\n",
    "                  .withColumn(\"same_date\",\n",
    "                             (F.col(\"DIA_DATA_ALTA\") == F.col(\"DIA_DATA_TANCAMENT\")) &\n",
    "                             (F.col(\"MES_DATA_ALTA\") == F.col(\"MES_DATA_TANCAMENT\")) &\n",
    "                             (F.col(\"Any\") == F.col(\"ANY_DATA_TANCAMENT\")))\n",
    "                  .groupBy(\"same_date\")\n",
    "                  .count())\n",
    "\n",
    "same_date_check.show()"
   ]
  },
  {
   "cell_type": "code",
   "execution_count": 17,
   "id": "28c398a9",
   "metadata": {},
   "outputs": [],
   "source": [
    "district_stats.write \\\n",
    "    .option(\"header\", True) \\\n",
    "    .mode(\"overwrite\") \\\n",
    "    .csv(\"exploitation_zone/gini_coefficients\")"
   ]
  },
  {
   "cell_type": "code",
   "execution_count": null,
   "id": "7ade0b89",
   "metadata": {},
   "outputs": [],
   "source": [
    "## do the kpis the incident things and save this\n",
    "\n",
    "### kpis already created in the exploitation file.\\\n",
    "### formatted to exploitation."
   ]
  }
 ],
 "metadata": {
  "kernelspec": {
   "display_name": "datasci",
   "language": "python",
   "name": "python3"
  },
  "language_info": {
   "codemirror_mode": {
    "name": "ipython",
    "version": 3
   },
   "file_extension": ".py",
   "mimetype": "text/x-python",
   "name": "python",
   "nbconvert_exporter": "python",
   "pygments_lexer": "ipython3",
   "version": "3.12.7"
  }
 },
 "nbformat": 4,
 "nbformat_minor": 5
}
